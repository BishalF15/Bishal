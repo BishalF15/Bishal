{
  "nbformat": 4,
  "nbformat_minor": 0,
  "metadata": {
    "colab": {
      "provenance": [],
      "authorship_tag": "ABX9TyOIBVH67uAxDxjn28nEUPui",
      "include_colab_link": true
    },
    "kernelspec": {
      "name": "python3",
      "display_name": "Python 3"
    },
    "language_info": {
      "name": "python"
    }
  },
  "cells": [
    {
      "cell_type": "markdown",
      "metadata": {
        "id": "view-in-github",
        "colab_type": "text"
      },
      "source": [
        "<a href=\"https://colab.research.google.com/github/BishalF15/Bishal/blob/master/python_by_Bishal_.ipynb\" target=\"_parent\"><img src=\"https://colab.research.google.com/assets/colab-badge.svg\" alt=\"Open In Colab\"/></a>"
      ]
    },
    {
      "cell_type": "markdown",
      "source": [
        "**Day-1 : Module 1 to 1.9**"
      ],
      "metadata": {
        "id": "iEjGK8ppHNKS"
      }
    },
    {
      "cell_type": "code",
      "execution_count": null,
      "metadata": {
        "colab": {
          "base_uri": "https://localhost:8080/"
        },
        "id": "_dAw_-CTHGAe",
        "outputId": "2cfb0448-fbe6-4938-da4c-ed74bb8fd870"
      },
      "outputs": [
        {
          "output_type": "stream",
          "name": "stdout",
          "text": [
            "Hello world\n"
          ]
        }
      ],
      "source": [
        "#prob1\n",
        "#Print something basic\n",
        "\n",
        "print(\"Hello world\")"
      ]
    },
    {
      "cell_type": "code",
      "source": [
        "#prob2\n",
        "\n",
        "#Variables, data type, formatted string,Comment\n",
        "\n",
        "\n",
        "age = 24\n",
        "\n",
        "interest_rate=2.5\n",
        "\n",
        "name = \"Bishal Biswas\"\n",
        "district = 'Mymensingh'\n",
        "is_sleeping = True\n",
        "\n",
        "print(type(age))\n",
        "print(type(interest_rate))\n",
        "print(type(name))\n",
        "print(type(is_sleeping))\n",
        "\n",
        "print(age+interest_rate)\n",
        "print(name)\n",
        "\n",
        "print('Bishal always' + ' Single')  #add string\n",
        "text = f\"Bishal's age is {age} & living in {district}\"\n",
        "print(text)\n",
        "# This is a comment\n",
        "\"\"\" this is\n",
        " multiline comment/docs String \"\"\"\n",
        "\n",
        "# Ctrl + / : single line comment\n",
        "# Alt+Shift+A : Multi line comment/ Docs String"
      ],
      "metadata": {
        "colab": {
          "base_uri": "https://localhost:8080/",
          "height": 174
        },
        "id": "JyJmVqupHkua",
        "outputId": "9f9453f0-5e0a-4fa8-d2fc-40748b37ff1c"
      },
      "execution_count": null,
      "outputs": [
        {
          "output_type": "stream",
          "name": "stdout",
          "text": [
            "<class 'int'>\n",
            "<class 'float'>\n",
            "<class 'str'>\n",
            "<class 'bool'>\n",
            "26.5\n",
            "Bishal Biswas\n",
            "Bishal always Single\n",
            "Bishal's age is 24 & living in Mymensingh\n"
          ]
        },
        {
          "output_type": "execute_result",
          "data": {
            "text/plain": [
              "' this is \\n multiline comment/docs String '"
            ],
            "application/vnd.google.colaboratory.intrinsic+json": {
              "type": "string"
            }
          },
          "metadata": {},
          "execution_count": 2
        }
      ]
    },
    {
      "cell_type": "code",
      "source": [
        "#Prob3\n",
        "#Type conversion & mathmetical operation\n",
        "\n",
        "money1 = float(input('Rakib Give me some money: '))\n",
        "money2 = float(input('Joy Give me some money: '))\n",
        "\n",
        "print()\n",
        "print(f'Rakib You gave me {money1} tk')\n",
        "print(\"Joy you gave me \",money2,\"Tk\")\n",
        "print(\"Total Money I have \",money1+money2, \"Tk\")\n",
        "\n",
        "\"\"\"\n",
        "Google Search: (Type Casting)\n",
        "1. Convert any number to string : str\n",
        "2.Conver decimal number: Float\n",
        "3.Convert integer number: int\n",
        "List, tuple,hex,oct,bin (aste aste dekhte hobe)\n",
        "\"\"\""
      ],
      "metadata": {
        "colab": {
          "base_uri": "https://localhost:8080/",
          "height": 157
        },
        "id": "vIOVwxK7Hzeq",
        "outputId": "446f4e16-ddd6-4074-bd10-940ce8423f6f"
      },
      "execution_count": null,
      "outputs": [
        {
          "output_type": "stream",
          "name": "stdout",
          "text": [
            "Rakib Give me some money: 50\n",
            "Joy Give me some money: 70\n",
            "\n",
            "Rakib You gave me 50.0 tk\n",
            "Joy you gave me  70.0 Tk\n",
            "Total Money I have  120.0 Tk\n"
          ]
        },
        {
          "output_type": "execute_result",
          "data": {
            "text/plain": [
              "' \\nGoogle Search: (Type Casting)\\n1. Convert any number to string : str\\n2.Conver decimal number: Float\\n3.Convert integer number: int\\nList, tuple,hex,oct,bin (aste aste dekhte hobe)\\n'"
            ],
            "application/vnd.google.colaboratory.intrinsic+json": {
              "type": "string"
            }
          },
          "metadata": {},
          "execution_count": 3
        }
      ]
    },
    {
      "cell_type": "code",
      "source": [
        "#prob4\n",
        "\n",
        "#Basic Operators\n",
        "\n",
        "#operators: + , - , * , / , %, //(floor division)\n",
        "num1= 45\n",
        "num2 = 4\n",
        "\n",
        "print(\"Add :\",num1+num2)\n",
        "print(\"substract :\",num1-num2)\n",
        "print(\"Multiply :\",num1*num2)\n",
        "print(\"division :\",float(num1/num2)) #typecasting\n",
        "print(\"Modulas/ remainder :\",num1%num2)\n",
        "print(\"Floor modulas\",num1//num2) #purno vagfol\n",
        "print(\"Power \",num1**num2)"
      ],
      "metadata": {
        "colab": {
          "base_uri": "https://localhost:8080/"
        },
        "id": "KtONFCd7H-oC",
        "outputId": "7a439f10-7c9c-4cda-b2ca-780e8b9e80bc"
      },
      "execution_count": null,
      "outputs": [
        {
          "output_type": "stream",
          "name": "stdout",
          "text": [
            "Add : 49\n",
            "substract : 41\n",
            "Multiply : 180\n",
            "division : 11.25\n",
            "Modulas/ remainder : 1\n",
            "Floor modulas 11\n",
            "Power  4100625\n"
          ]
        }
      ]
    },
    {
      "cell_type": "code",
      "source": [
        "#Prob 5\n",
        "#Basic Comparision\n",
        "# >, <, ==, !=, >=, <=\n",
        "#boolean value return korbe\n",
        "# no: ++, --\n",
        "#power: **\n",
        "num1 = 12\n",
        "num2 = 5\n",
        "\n",
        "a= num1>= num2\n",
        "b = num2> num1\n",
        "c = num1 == num2\n",
        "d = num2!=num1\n",
        "\n",
        "print(a)\n",
        "print(b)\n",
        "print(c)\n",
        "print(d)"
      ],
      "metadata": {
        "colab": {
          "base_uri": "https://localhost:8080/"
        },
        "id": "rk2kXPIvIFla",
        "outputId": "5849e09d-44f3-4ae0-938d-1106ed9d15a4"
      },
      "execution_count": null,
      "outputs": [
        {
          "output_type": "stream",
          "name": "stdout",
          "text": [
            "True\n",
            "False\n",
            "False\n",
            "True\n"
          ]
        }
      ]
    },
    {
      "cell_type": "code",
      "source": [
        "#prob 6\n",
        "#Conditional Statement\n",
        "# a++ => a+=1, a-- => a-=1\n",
        "# in, not, not in, is, is not (checking operator)\n",
        "\n",
        "boss = False\n",
        "\n",
        "\n",
        "mark =float(input(\"Enter mark: \"))\n",
        "\n",
        "if mark>=80:\n",
        "    print(\"You pass in the exam & Got A+\")\n",
        "elif mark>=60:\n",
        "    print(\"You just pass in the exam\")\n",
        "else:\n",
        "    print(\"Sorry! You are Fail\")\n",
        "\n",
        "\n",
        "\n",
        "\n",
        "if boss is True:\n",
        "    print(\"Boss is Here in the meeting\")\n",
        "elif boss is not True:\n",
        "    print(\"Boss is not here\")\n",
        "else:\n",
        "    print(\"Chill Everyone\")"
      ],
      "metadata": {
        "colab": {
          "base_uri": "https://localhost:8080/"
        },
        "id": "ZAIYxFAMIMdx",
        "outputId": "01e6b4be-e2b7-4a6e-ec3a-33045ed8596a"
      },
      "execution_count": null,
      "outputs": [
        {
          "output_type": "stream",
          "name": "stdout",
          "text": [
            "Enter mark: 58\n",
            "Sorry! You are Fail\n",
            "Boss is not here\n"
          ]
        }
      ]
    },
    {
      "cell_type": "code",
      "source": [
        "#Prob 7\n",
        "#neasted if...else\n",
        "\n",
        "num = int(input(\"Enter number: \"))\n",
        "\n",
        "if num<= 100 and num>=0:\n",
        "    if num%2==0:\n",
        "        print(\"Even number\")\n",
        "    else:\n",
        "        print(\"Odd number\")\n",
        "else:\n",
        "    print(\"Wrong! Enter 0 to 100 number\")"
      ],
      "metadata": {
        "colab": {
          "base_uri": "https://localhost:8080/"
        },
        "id": "EOPybvBkIZ0C",
        "outputId": "731e5e98-2a0f-49b2-f72c-04cff0587bd9"
      },
      "execution_count": null,
      "outputs": [
        {
          "output_type": "stream",
          "name": "stdout",
          "text": [
            "Enter number: 27\n",
            "Odd number\n"
          ]
        }
      ]
    },
    {
      "cell_type": "code",
      "source": [
        "#Prob 8\n",
        "#While LOOP , break statement\n",
        "\n",
        "num =5\n",
        "i=1\n",
        "\n",
        "while i<=10:\n",
        "    print( num ,\"X\",i ,\"=\", num*i)\n",
        "    i += 1\n",
        "    if i==6:\n",
        "         break\n",
        "\n",
        "\n"
      ],
      "metadata": {
        "colab": {
          "base_uri": "https://localhost:8080/"
        },
        "id": "rmxipY1UIh0y",
        "outputId": "aed906ae-576d-44e0-c427-a1dd33732826"
      },
      "execution_count": null,
      "outputs": [
        {
          "output_type": "stream",
          "name": "stdout",
          "text": [
            "5 X 1 = 5\n",
            "5 X 2 = 10\n",
            "5 X 3 = 15\n",
            "5 X 4 = 20\n",
            "5 X 5 = 25\n"
          ]
        }
      ]
    },
    {
      "cell_type": "code",
      "source": [
        "#Prob 9\n",
        "#While loop + Continue statement\n",
        "i=0\n",
        "while i<25:\n",
        "    i += 1\n",
        "    if i%2==1:\n",
        "         continue\n",
        "    print(i,end=\" \")\n"
      ],
      "metadata": {
        "colab": {
          "base_uri": "https://localhost:8080/"
        },
        "id": "zYQ4dgqlIp_R",
        "outputId": "a51353c7-fe38-4343-ce5b-453a96b4fb2a"
      },
      "execution_count": null,
      "outputs": [
        {
          "output_type": "stream",
          "name": "stdout",
          "text": [
            "2 4 6 8 10 12 14 16 18 20 22 24 "
          ]
        }
      ]
    },
    {
      "cell_type": "code",
      "source": [
        "#Prob 10\n",
        "#For loop\n",
        "# List Write into third bracket\n",
        "\n",
        "numbers = [5,10,15,20,25] #List or Array\n",
        "\n",
        "sum=0\n",
        "\n",
        "print(\"List is : \",numbers)\n",
        "for i in numbers:\n",
        "    sum+=i\n",
        "print(\"\\nSum of list: \",sum)\n",
        "\n",
        "\n",
        "text = \"He is a Boy\"\n",
        "\n",
        "for iter in text:\n",
        "    print(iter,end='')"
      ],
      "metadata": {
        "colab": {
          "base_uri": "https://localhost:8080/"
        },
        "id": "GK92UFoJIwjp",
        "outputId": "2ebc36a6-b105-47b6-a4e0-8eadfac86a7e"
      },
      "execution_count": null,
      "outputs": [
        {
          "output_type": "stream",
          "name": "stdout",
          "text": [
            "List is :  [5, 10, 15, 20, 25]\n",
            "\n",
            "Sum of list:  75\n",
            "He is a Boy"
          ]
        }
      ]
    },
    {
      "cell_type": "code",
      "source": [
        "#Prob 11\n",
        "\n",
        "#Foor LOOP + Range\n",
        "\n",
        "num = 50.00\n",
        "\n",
        "for i in range(1,11):\n",
        "    if num%i==0:\n",
        "        print(i,end='  ')\n",
        "print(\"\\n\\n\")\n",
        "for num in range(1,5):\n",
        "    print(f\"Bishal {num}\")"
      ],
      "metadata": {
        "id": "oSkdK2mtI_Kh"
      },
      "execution_count": null,
      "outputs": []
    },
    {
      "cell_type": "code",
      "source": [
        "#Prob 12 (practice + H.W)\n",
        "\n",
        "#Enumerate in Foor Loop\n",
        "\n",
        "friends = ['Muntasir','Rakib','Masuk','Shovon']\n",
        "\n",
        "for indx,name in enumerate (friends):\n",
        "    print(f'Index {indx} = {name}')\n"
      ],
      "metadata": {
        "id": "80B1CwqYJI7J"
      },
      "execution_count": null,
      "outputs": []
    },
    {
      "cell_type": "code",
      "source": [
        "# Home Work prob1\n",
        "\n",
        "#Find largest number from three number\n",
        "\n",
        "num1= int(input(\"Enter 1st Number: \"))\n",
        "num2= int(input(\"Enter 2nd Number: \"))\n",
        "num3= int(input(\"Enter 3rd Number: \"))\n",
        "\n",
        "if num1>num2 and num1>num3:\n",
        "    print(f'Largest number is {num1}')\n",
        "elif num2>num3:\n",
        "    print(f'Largest number is {num2}')\n",
        "else:\n",
        "    print(f'Largest number is {num3}')"
      ],
      "metadata": {
        "colab": {
          "base_uri": "https://localhost:8080/"
        },
        "id": "yPVI4zGwJXBi",
        "outputId": "bbaa3134-2ba2-4991-98a2-895ef84c6a9e"
      },
      "execution_count": null,
      "outputs": [
        {
          "output_type": "stream",
          "name": "stdout",
          "text": [
            "Enter 1st Number: 5\n",
            "Enter 2nd Number: 9\n",
            "Enter 3rd Number: 7\n",
            "Largest number is 9\n"
          ]
        }
      ]
    },
    {
      "cell_type": "code",
      "source": [
        "# Home Work Prob 2\n",
        "\n",
        "#Take three numbers from user and find sum of this three number using loop\n",
        "\n",
        "sum = 0\n",
        "for i in range(1,4):\n",
        "    num = int(input(f\"Enter number {i} : \"))\n",
        "    sum+=num\n",
        "print(f'Sum of three number {sum}')"
      ],
      "metadata": {
        "colab": {
          "base_uri": "https://localhost:8080/"
        },
        "id": "N0TjhdbzJuea",
        "outputId": "34dfda98-68ba-40ee-c73e-70b414c26b90"
      },
      "execution_count": null,
      "outputs": [
        {
          "output_type": "stream",
          "name": "stdout",
          "text": [
            "Enter number 1 : 8\n",
            "Enter number 2 : 7\n",
            "Enter number 3 : 5\n",
            "Sum of three number 20\n"
          ]
        }
      ]
    },
    {
      "cell_type": "code",
      "source": [
        "# Home Work Prob 3\n",
        "\n",
        "# Run a LOOP show me the odd number between 39 to 68\n",
        "\n",
        "\n",
        "i = 39\n",
        "print(\"Odd numbers between 39 to 68 are: \")\n",
        "\n",
        "while i<69:\n",
        "    if i%2==1:\n",
        "        print(i,end=\" \")\n",
        "    i+=1"
      ],
      "metadata": {
        "colab": {
          "base_uri": "https://localhost:8080/"
        },
        "id": "Ugu6ka-FJ6jp",
        "outputId": "97b11bbc-86a2-4a73-c61a-c90a4e4f6ec3"
      },
      "execution_count": null,
      "outputs": [
        {
          "output_type": "stream",
          "name": "stdout",
          "text": [
            "Odd numbers between 39 to 68 are: \n",
            "39 41 43 45 47 49 51 53 55 57 59 61 63 65 67 "
          ]
        }
      ]
    },
    {
      "cell_type": "code",
      "source": [
        "#Home Work prob 4\n",
        "#Grade Calculator\n",
        "\n",
        "marks = float(input(\"Enter marks between 0 to 100 : \"))\n",
        "\n",
        "if marks>=80:\n",
        "    print('You Got A+  & CGPA 4.00')\n",
        "elif marks>=70:\n",
        "    print('You Got A  & CGPA 3.75')\n",
        "elif marks>=60:\n",
        "    print('You Got A-  & CGPA 3.50')\n",
        "elif marks>=50:\n",
        "    print('You Got B  & CGPA 3.25')\n",
        "elif marks>=40:\n",
        "    print('You Got C  & CGPA 3.00')\n",
        "else:\n",
        "    print(\"Sorry! You are fail! Retake course again\")\n"
      ],
      "metadata": {
        "colab": {
          "base_uri": "https://localhost:8080/"
        },
        "id": "9tE1uY93KGbp",
        "outputId": "34d47dab-4d05-40f9-a95d-f61603deedc9"
      },
      "execution_count": null,
      "outputs": [
        {
          "output_type": "stream",
          "name": "stdout",
          "text": [
            "Enter marks between 0 to 100 : 72.75\n",
            "You Got A  & CGPA 3.75\n"
          ]
        }
      ]
    },
    {
      "cell_type": "markdown",
      "source": [
        "**Day-2: Module 2 to 2.9**"
      ],
      "metadata": {
        "id": "bAEPrUcUKQrJ"
      }
    },
    {
      "cell_type": "code",
      "source": [
        "#prob1\n",
        "#Introduction Function in python\n",
        "\n",
        "def double_it(num):\n",
        "    result = num*2\n",
        "    print(result)\n",
        "\n",
        "num = int(input(\"Enter number : \"))\n",
        "double_it(num)\n",
        "\n",
        "def sum(num1,num2):\n",
        "    result = num1+num2\n",
        "    return result\n",
        "\n",
        "num1 = int(input(\"Enter number 1 : \"))\n",
        "num2 = int(input(\"Enter number 2 : \"))\n",
        "res = sum(num1,num2)\n",
        "print(\"Sum = \",res)\n",
        "\n"
      ],
      "metadata": {
        "colab": {
          "base_uri": "https://localhost:8080/"
        },
        "id": "K4jMzpUL83OP",
        "outputId": "f8c44339-58f8-4f6c-c3c5-35722948988f"
      },
      "execution_count": null,
      "outputs": [
        {
          "output_type": "stream",
          "name": "stdout",
          "text": [
            "Enter number : 5\n",
            "10\n",
            "Enter number 1 : 5\n",
            "Enter number 2 : 7\n",
            "Sum =  12\n"
          ]
        }
      ]
    },
    {
      "cell_type": "code",
      "source": [
        "#prob2\n",
        "#Default parameter & Args in function\n",
        "\n",
        "def sum(num1,num2,num3=0):  #here num3=0 is default parameter\n",
        "    res = num1+num2+num3\n",
        "    return res\n",
        "total = sum(99,11,5)\n",
        "total1= sum(5,7) #default parameter e value pass koraw jay na korlew chole\n",
        "total2 = sum(8,7,3)\n",
        "\n",
        "print(\"Total1 = \",total)\n",
        "print(\"Total2 = \",total1)\n",
        "print(\"Total3 = \",total2)\n",
        "\n",
        "\n",
        "#args\n",
        "def all_sum(*num): #here \" *num \" is args\n",
        "    print(\"Numbers are : \",num)\n",
        "\n",
        "totalX = all_sum(45,13,17,5)    #args use kore multiple argument same variable e newa jay\n",
        "totalX1 = all_sum(5,7)\n",
        "\n",
        "\n",
        "#args 2\n",
        "def summation(num1,num2, *numbers):   #1st duita input num1 num2 te store baki gula args e\n",
        "    print(numbers)\n",
        "    sum = 0\n",
        "    for i in numbers:\n",
        "        sum+=i\n",
        "    return sum\n",
        "\n",
        "totalNew = summation(45,13,75,8,9,13)  #prothom duita bade baki gula print korbe\n",
        "print(\"All Sum = \",totalNew)\n",
        "\n",
        "\n"
      ],
      "metadata": {
        "colab": {
          "base_uri": "https://localhost:8080/"
        },
        "id": "eQsaZE_59gzn",
        "outputId": "025ac6bf-f455-47e5-b8b5-364d091f0fd3"
      },
      "execution_count": null,
      "outputs": [
        {
          "output_type": "stream",
          "name": "stdout",
          "text": [
            "Total1 =  115\n",
            "Total2 =  12\n",
            "Total3 =  18\n",
            "Numbers are :  (45, 13, 17, 5)\n",
            "Numbers are :  (5, 7)\n",
            "(75, 8, 9, 13)\n",
            "All Sum =  105\n"
          ]
        }
      ]
    },
    {
      "cell_type": "code",
      "source": [
        "#prob 3\n",
        "# K args\n",
        "\n",
        "def print_kwargs(**kwargs):\n",
        "    for key, value in kwargs.items():\n",
        "        print(f\"{key}: {value}\")\n",
        "\n",
        "\n",
        "print_kwargs(name=\"Alice\", age=30, city=\"Wonderland\")\n",
        "\n",
        "def a_lot(num1,num2):\n",
        "    sum = num1+num2\n",
        "    mult = num1*num2\n",
        "    sub = num1-num2\n",
        "    return sum,mult,sub\n",
        "everything = a_lot(55,21)\n",
        "print(everything)\n",
        "\n"
      ],
      "metadata": {
        "colab": {
          "base_uri": "https://localhost:8080/"
        },
        "id": "2fbuW0Oh9oCG",
        "outputId": "49bb15bf-4598-4565-b4ad-e86dc70b61b5"
      },
      "execution_count": null,
      "outputs": [
        {
          "output_type": "stream",
          "name": "stdout",
          "text": [
            "name: Alice\n",
            "age: 30\n",
            "city: Wonderland\n",
            "(76, 1155, 34)\n"
          ]
        }
      ]
    },
    {
      "cell_type": "code",
      "source": [
        "#prob 4\n",
        "#Local and Global scope\n",
        "\n",
        "balance = 3000  #\"balance\" is Global variable\n",
        "\n",
        "def buy_things(item,price):\n",
        "    balanceX = balance - price  #\"balanceX\" is Local variable\n",
        "    print(f'\\nBalance after buying {item}',balanceX)\n",
        "buy_things('Sunglass',1000)\n",
        "\n",
        "\n",
        "\n",
        "# Ex2:\n",
        "# Global variable\n",
        "global_var = \"I am a global variable\"\n",
        "\n",
        "def func():\n",
        "    # Local variable\n",
        "    local_var = \"I am a local variable\"\n",
        "    print(\"\\nInside the function:\")\n",
        "    print(\"Local variable:\", local_var)\n",
        "    print(\"Global variable:\", global_var)\n",
        "\n",
        "# Call the function\n",
        "func()\n",
        "\n",
        "# Try to access local_var outside the function (will raise NameError)\n",
        "# print(\"Outside the function - Local variable:\", local_var)\n",
        "\n",
        "# Access global_var outside the function\n",
        "print(\"Outside the function - Global variable:\", global_var)\n"
      ],
      "metadata": {
        "colab": {
          "base_uri": "https://localhost:8080/"
        },
        "id": "uKsCmSKt9rnG",
        "outputId": "8118ed4c-f19e-42a2-9460-114bf1232bdf"
      },
      "execution_count": null,
      "outputs": [
        {
          "output_type": "stream",
          "name": "stdout",
          "text": [
            "\n",
            "Balance after buying Sunglass 2000\n",
            "\n",
            "Inside the function:\n",
            "Local variable: I am a local variable\n",
            "Global variable: I am a global variable\n",
            "Outside the function - Global variable: I am a global variable\n"
          ]
        }
      ]
    },
    {
      "cell_type": "code",
      "source": [
        "#prob 5\n",
        "#Built-in function\n",
        "#List exist in 3rd bracket\n",
        "\n",
        "high = max(5,15,7,3,52,8)\n",
        "low = min([5,15,7,3,52,8])\n",
        "print(high,low)\n",
        "\n",
        "count = len([1,2,3,8,9,-1,77,58])\n",
        "print(count)\n",
        "\n",
        "#this bellow line work on pycharm\n",
        "#total = sum([1,2,3,4,5]) #List er vitor sum function use kora jay\n",
        "#print(\"Sum of list = \",total)"
      ],
      "metadata": {
        "colab": {
          "base_uri": "https://localhost:8080/"
        },
        "id": "RVLjTxr5-EBe",
        "outputId": "e6f88966-fe00-4ba6-a5e2-4c9549ea0bc0"
      },
      "execution_count": null,
      "outputs": [
        {
          "output_type": "stream",
          "name": "stdout",
          "text": [
            "52 3\n",
            "8\n"
          ]
        }
      ]
    },
    {
      "cell_type": "code",
      "source": [
        "#prob 6\n",
        "#List, List index func, Slicing operation\n",
        "\n",
        "# index  = 0  1  2  3  4   5  6  7\n",
        "numbers = [69,10,20,35,15,17,45,93]\n",
        "#index   = -8 -7 -6 -5 -4 -3 -2  -1\n",
        "\n",
        "print(numbers[3])\n",
        "print(numbers[-3])\n",
        "\n",
        "#list( start : end-1 ) Slicing\n",
        "print(numbers[2:7])\n",
        "print(numbers[:]) #full list print korbe\n",
        "print(numbers[3:]) #index 3 theke baki sob\n",
        "print(numbers[:5]) #index 0 to 5\n",
        "print(numbers[1:7:2])  #(start:end-1:gap or step)\n",
        "print(numbers[5:0:-1]) #reverse a part of list\n",
        "print(numbers[::-1]) #reverse fully list\n",
        "\n"
      ],
      "metadata": {
        "colab": {
          "base_uri": "https://localhost:8080/"
        },
        "id": "d0wNAQw0-oIf",
        "outputId": "1c1a3ab5-1397-4c8f-e26a-89acb63fbbc9"
      },
      "execution_count": null,
      "outputs": [
        {
          "output_type": "stream",
          "name": "stdout",
          "text": [
            "35\n",
            "17\n",
            "[20, 35, 15, 17, 45]\n",
            "[69, 10, 20, 35, 15, 17, 45, 93]\n",
            "[35, 15, 17, 45, 93]\n",
            "[69, 10, 20, 35, 15]\n",
            "[10, 35, 17]\n",
            "[17, 15, 35, 20, 10]\n",
            "[93, 45, 17, 15, 35, 20, 10, 69]\n"
          ]
        }
      ]
    },
    {
      "cell_type": "code",
      "source": [
        "#prob 7\n",
        "#List Methods\n",
        "\n",
        "num = [12,45,98,68]\n",
        "\n",
        "num.append(56) #last e add kore append\n",
        "print(num)\n",
        "\n",
        "num.insert(2,71) #2 no indexe 71 add\n",
        "print(num)\n",
        "\n",
        "\n",
        "if 8 in num:  # 8 list e nai so error o hobe na remove o hobe na kisu\n",
        "    num.remove(8)\n",
        "print(num)\n",
        "if 98 in num:\n",
        "    num.remove(98)  #98 list thke remove hobe\n",
        "print(num)\n",
        "\n",
        "lst = num.pop()\n",
        "print(f\"List is {num} & Pop item {lst}\")\n",
        "\n",
        "indx = num.index(45) #value er index finding\n",
        "print(\"45 is in index \",indx)\n",
        "\n",
        "#ERROR cz 7 not in the list\n",
        "# indx1 = num.index(7)\n",
        "# print(\"7 is in index: \",indx1)\n",
        "\n",
        "if 7 in num:   #jodi 7 list e thake tobe index find hobe\n",
        "    indx1 = num.index(7)\n",
        "    print(\" 7 in index \",indx1)\n",
        "\n",
        "Sorted = num.sort() #list sort korbe\n",
        "print(f'Sorted after list is {num}')\n",
        "\n",
        "num.reverse()\n",
        "print(\"After reverse list is : \",num)\n"
      ],
      "metadata": {
        "colab": {
          "base_uri": "https://localhost:8080/"
        },
        "id": "ytcD1O37-xXX",
        "outputId": "477a58d2-2597-42ae-9770-014996dc647a"
      },
      "execution_count": null,
      "outputs": [
        {
          "output_type": "stream",
          "name": "stdout",
          "text": [
            "[12, 45, 98, 68, 56]\n",
            "[12, 45, 71, 98, 68, 56]\n",
            "[12, 45, 71, 98, 68, 56]\n",
            "[12, 45, 71, 68, 56]\n",
            "List is [12, 45, 71, 68] & Pop item 56\n",
            "45 is in index  1\n",
            "Sorted after list is [12, 45, 68, 71]\n",
            "After reverse list is :  [71, 68, 45, 12]\n"
          ]
        }
      ]
    },
    {
      "cell_type": "code",
      "source": [
        "#prob8\n",
        "#List Comprehension\n",
        "#Without Comphrension\n",
        "numbers = [45,87,96,43,65,85,14,26,61,70]\n",
        "odd = []\n",
        "for i in numbers:\n",
        "    if i%2 !=0 and i%5==0:\n",
        "        odd.append(i)\n",
        "print(\"New list\",odd)\n",
        "\n",
        "\n",
        "#With Comphrension\n",
        "no_list = [1,65,2,5,9,45,85,70,87,96,10,26]\n",
        "\n",
        "odd_num = [i for i in no_list if i%2==1 and i%5==0]\n",
        "print(\"odd number divisible by 5 are in List: \",odd_num)\n",
        "\n",
        "\n",
        "#Comphrension using neasted Loop\n",
        "players = ['Shacine','Shakib','Dhoni']\n",
        "ages = [58,38,42]\n",
        "\n",
        "age_combo =[[i,j] for i in players for j in ages]\n",
        "print(age_combo)\n"
      ],
      "metadata": {
        "colab": {
          "base_uri": "https://localhost:8080/"
        },
        "id": "NSHdBUEO-5mH",
        "outputId": "6e15a036-4dee-4162-e2fd-bdf182d7e6c7"
      },
      "execution_count": null,
      "outputs": [
        {
          "output_type": "stream",
          "name": "stdout",
          "text": [
            "New list [45, 65, 85]\n",
            "odd number divisible by 5 are in List:  [65, 5, 45, 85]\n",
            "[['Shacine', 58], ['Shacine', 38], ['Shacine', 42], ['Shakib', 58], ['Shakib', 38], ['Shakib', 42], ['Dhoni', 58], ['Dhoni', 38], ['Dhoni', 42]]\n"
          ]
        }
      ]
    },
    {
      "cell_type": "markdown",
      "source": [
        "**Day 3 : Module 3.1 to 3.9**"
      ],
      "metadata": {
        "id": "klRzeHwB_ArH"
      }
    },
    {
      "cell_type": "code",
      "source": [
        "#prob1\n",
        "#String Immutable and String methods\n",
        "#String is nothing but a sequence of characters\n",
        "\n",
        "name = 'Bishal\\'s Biswas'  #escape (Cottetion print er jonno)\n",
        "name2 =\"Rakib Bhuiyan\"\n",
        "\n",
        "#multiline string\n",
        "name3 = \"\"\"\n",
        "   Joy khan\n",
        "   number one\n",
        "\"\"\"\n",
        "\n",
        "print(name)\n",
        "print(name2)\n",
        "print(name3)\n",
        "\n",
        "for char in name2:\n",
        "    print(char,end=' ')\n",
        "\n",
        "print(\"\\nname2 3rd char: \",name2[3])\n",
        "\n",
        "#Slicing string\n",
        "print(name2[2:])\n",
        "print(name[::-1])\n",
        "\n",
        "#immutable part\n",
        "#name2[0] = 'S'\n",
        "#print(name2)\n",
        "\n",
        "if 'Bhuiyan' in name2:\n",
        "    print(\"Exist in name\")\n",
        "\n",
        "#String methods\n",
        "print(name2.upper())\n",
        "print(name2.lower())\n",
        "\n"
      ],
      "metadata": {
        "colab": {
          "base_uri": "https://localhost:8080/"
        },
        "id": "BkjyM6Vf_G2n",
        "outputId": "50f27905-f2da-4f22-8ecf-702d683b4712"
      },
      "execution_count": null,
      "outputs": [
        {
          "output_type": "stream",
          "name": "stdout",
          "text": [
            "Bishal's Biswas\n",
            "Rakib Bhuiyan\n",
            "\n",
            "   Joy khan\n",
            "   number one\n",
            "\n",
            "R a k i b   B h u i y a n \n",
            "name2 3rd char:  i\n",
            "kib Bhuiyan\n",
            "sawsiB s'lahsiB\n",
            "Exist in name\n",
            "RAKIB BHUIYAN\n",
            "rakib bhuiyan\n"
          ]
        }
      ]
    },
    {
      "cell_type": "code",
      "source": [
        "#prob 2\n",
        "#Tuples and Tuples methods\n",
        "\n",
        "\n",
        "#List exist under third bracket\n",
        "#Tuple exist under 1st bracket\n",
        "#Tuple is similar as list but not same\n",
        "#Tuple is immutable\n",
        "#List/string er moto access kore jay tobe tuple string immutable\n",
        "def  multiple():\n",
        "    return 3,4\n",
        "print(multiple())\n",
        "\n",
        "things = 'pen','tripod','water bottle','glass','cammera'\n",
        "\n",
        "print(type(things)) #type check\n",
        "print(things[1]) #print index 1 value\n",
        "\n",
        "#Slicing tuple\n",
        "\n",
        "print(things[3:])\n",
        "print(things[:5])\n",
        "print(things[::-1])\n",
        "\n",
        "#Check item exist or not\n",
        "\n",
        "if 'tripod' in things:\n",
        "    print(\"Yes! it exist in Tuple\")\n",
        "\n",
        "#For loop operation\n",
        "\n",
        "for item in things:\n",
        "    print(item,end=' ')\n",
        "\n",
        "#immutable part\n",
        "#things[0] = 'Book'\n",
        "#print(things)\n",
        "\n",
        "#Tuple methods\n",
        "print(\"Length of the tuple is : \",len(things))\n",
        "\n",
        "#Tuple mutation by help from List\n",
        "\n",
        "mega = ([2,4,5],[1,3,6],[10,11,12])\n",
        "print(type(mega))\n",
        "print(mega[0])\n",
        "mega[0][2]= 699\n",
        "print(mega)"
      ],
      "metadata": {
        "colab": {
          "base_uri": "https://localhost:8080/"
        },
        "id": "RIXK0VPo_R72",
        "outputId": "0f981395-e9d0-4d39-ee16-7660740e52f8"
      },
      "execution_count": null,
      "outputs": [
        {
          "output_type": "stream",
          "name": "stdout",
          "text": [
            "(3, 4)\n",
            "<class 'tuple'>\n",
            "tripod\n",
            "('glass', 'cammera')\n",
            "('pen', 'tripod', 'water bottle', 'glass', 'cammera')\n",
            "('cammera', 'glass', 'water bottle', 'tripod', 'pen')\n",
            "Yes! it exist in Tuple\n",
            "pen tripod water bottle glass cammera Length of the tuple is :  5\n",
            "<class 'tuple'>\n",
            "[2, 4, 5]\n",
            "([2, 4, 699], [1, 3, 6], [10, 11, 12])\n"
          ]
        }
      ]
    },
    {
      "cell_type": "code",
      "source": [
        "#prob 3\n",
        "#Set and Set methods\n",
        "#set: unique items collections\n",
        "#set doesn,t allow duplicate value & mutable(using function)\n",
        "#set exist under 2nd bracket {} & set is UnOrdered\n",
        "\n",
        "numbers = [ 5,12,8,9,9,9,7,13,5,45,69]\n",
        "print(numbers)\n",
        "num_set = set(numbers) #list passes into set\n",
        "print(num_set) #print into 2nd bracket & remove duplicate value\n",
        "print(type(num_set))\n",
        "\n",
        "#Set methods\n",
        "num_set.add(113)\n",
        "num_set.add(333)\n",
        "print(\"After add \",num_set)\n",
        "\n",
        "num_set.remove(45)\n",
        "print(\"After remove 45 \",num_set)\n",
        "\n",
        "#Loop in set\n",
        "for i in num_set:\n",
        "    print(i,end=' ')\n",
        "\n",
        "#Check exist\n",
        "\n",
        "if 333 in num_set:\n",
        "    print(\"\\n333 is exist in Num_set\")\n",
        "elif 45 in num_set:  #nai tai print korbe na\n",
        "    print(\"45 also exist in set\")\n",
        "\n",
        "#set Operation methods\n",
        "\n",
        "A = {1,3,5,7}\n",
        "B = {1,2,3,4,5,6}\n",
        "print(\"A union B = \", A|B) #duitay sob\n",
        "print(\"A intersection B = \", A&B) #2 set miliye common jegula\n",
        "print(\"B-A = \",B-A) #difference\n",
        "print(\"A-B = \",A-B) #difference"
      ],
      "metadata": {
        "colab": {
          "base_uri": "https://localhost:8080/"
        },
        "id": "L-RpoqWb_XVv",
        "outputId": "fa12e1ec-dbae-47cb-aace-bbcc8b21421a"
      },
      "execution_count": null,
      "outputs": [
        {
          "output_type": "stream",
          "name": "stdout",
          "text": [
            "[5, 12, 8, 9, 9, 9, 7, 13, 5, 45, 69]\n",
            "{5, 69, 7, 8, 9, 12, 13, 45}\n",
            "<class 'set'>\n",
            "After add  {5, 69, 7, 8, 9, 12, 13, 45, 333, 113}\n",
            "After remove 45  {5, 69, 7, 8, 9, 12, 13, 333, 113}\n",
            "5 69 7 8 9 12 13 333 113 \n",
            "333 is exist in Num_set\n",
            "A union B =  {1, 2, 3, 4, 5, 6, 7}\n",
            "A intersection B =  {1, 3, 5}\n",
            "B-A =  {2, 4, 6}\n",
            "A-B =  {7}\n"
          ]
        }
      ]
    },
    {
      "cell_type": "code",
      "source": [
        "#prob 4\n",
        "#Dictionary and Dictionaries methods\n",
        "\n",
        "#Hash table o bole\n",
        "# key:value pair vabe thake\n",
        "# 2nd bracket { } e hoy & mutable\n",
        "\n",
        "person = {'name':'Bishal','adress':'Dhaka','age':23,'job':'Student'}\n",
        "print(type(person))\n",
        "print(person['name'])\n",
        "print(person['adress'])\n",
        "print(person.keys())\n",
        "print(person.values())\n",
        "\n",
        "#Manual add + Mutation\n",
        "person['language'] = 'Bangla'\n",
        "person['name'] = 'Rakib Bhuiyan'\n",
        "print(person)\n",
        "\n",
        "#methods\n",
        "\n",
        "del person['age'] #delete age\n",
        "print(person)\n",
        "\n",
        "#Special dictionary For Loop\n",
        "\n",
        "for i,j in person.items():\n",
        "    print(i,\":\",j)"
      ],
      "metadata": {
        "colab": {
          "base_uri": "https://localhost:8080/"
        },
        "id": "EX0Z1rWT_gcv",
        "outputId": "4228f244-219b-4866-f7b8-d0992a85349f"
      },
      "execution_count": null,
      "outputs": [
        {
          "output_type": "stream",
          "name": "stdout",
          "text": [
            "<class 'dict'>\n",
            "Bishal\n",
            "Dhaka\n",
            "dict_keys(['name', 'adress', 'age', 'job'])\n",
            "dict_values(['Bishal', 'Dhaka', 23, 'Student'])\n",
            "{'name': 'Rakib Bhuiyan', 'adress': 'Dhaka', 'age': 23, 'job': 'Student', 'language': 'Bangla'}\n",
            "{'name': 'Rakib Bhuiyan', 'adress': 'Dhaka', 'job': 'Student', 'language': 'Bangla'}\n",
            "name : Rakib Bhuiyan\n",
            "adress : Dhaka\n",
            "job : Student\n",
            "language : Bangla\n"
          ]
        }
      ]
    },
    {
      "cell_type": "code",
      "source": [
        "#Prob 5\n",
        "#List index For Loop with Enumarate function\n",
        "\n",
        "num = [101,222,131,45,75,69,67,18,19,10]\n",
        "\n",
        "print(\"Index : Value\")\n",
        "for i,j in enumerate(num):\n",
        "    print(\"\\t\",i,\":\",j)\n"
      ],
      "metadata": {
        "colab": {
          "base_uri": "https://localhost:8080/"
        },
        "id": "pHiQwORi_mCQ",
        "outputId": "a5bfb241-47e3-41ab-9548-c37e7d68b351"
      },
      "execution_count": null,
      "outputs": [
        {
          "output_type": "stream",
          "name": "stdout",
          "text": [
            "Index : Value\n",
            "\t 0 : 101\n",
            "\t 1 : 222\n",
            "\t 2 : 131\n",
            "\t 3 : 45\n",
            "\t 4 : 75\n",
            "\t 5 : 69\n",
            "\t 6 : 67\n",
            "\t 7 : 18\n",
            "\t 8 : 19\n",
            "\t 9 : 10\n"
          ]
        }
      ]
    },
    {
      "cell_type": "code",
      "source": [
        "#Prob 6\n",
        "#Buil in Modules - time,math,random\n",
        "import time\n",
        "#Math Library methods\n",
        "from math import *\n",
        "\n",
        "res = ceil(4.6)\n",
        "print(\"Ceil value of 4.6 is : \",res)\n",
        "res1 = floor(4.6)\n",
        "print(\"Floor value of 4.6 is : \",res1)\n",
        "\n",
        "#Random Library methods\n",
        "from random import *\n",
        "\n",
        "print(random()) #generate random num between 0 to 1\n",
        "print(randint(1,10)) #Generate random int num 1 to 10\n",
        "#choice korbe jekono ekta nam randomly\n",
        "print(choice(['Bishal','Muntasir','Rakib','Shovon','Taufiq']))\n",
        "\n",
        "\n",
        "#Time Library methods\n",
        "from time import *\n",
        "sleep(4)\n",
        "print(\"Hello! i am Running late 4 second for sleep methods\")\n",
        "\n",
        "#datetime lib methods\n",
        "import datetime\n",
        "\n",
        "# Get the current date and time\n",
        "current_datetime = datetime.datetime.now()\n",
        "\n",
        "# Print the current date and time\n",
        "print(\"Current Date and Time:\", current_datetime)\n"
      ],
      "metadata": {
        "colab": {
          "base_uri": "https://localhost:8080/"
        },
        "id": "hZtMNRM6_qfP",
        "outputId": "e9c8b607-e2c3-4b41-b568-b7d1bda4e417"
      },
      "execution_count": null,
      "outputs": [
        {
          "output_type": "stream",
          "name": "stdout",
          "text": [
            "Ceil value of 4.6 is :  5\n",
            "Floor value of 4.6 is :  4\n",
            "0.9163096977520592\n",
            "2\n",
            "Bishal\n",
            "Hello! i am Running late 4 second for sleep methods\n",
            "Current Date and Time: 2024-05-03 19:47:04.536415\n"
          ]
        }
      ]
    },
    {
      "cell_type": "code",
      "source": [
        "#prob 7\n",
        "#Exception Handling- except,try,catch, finally\n",
        "\n",
        "try:\n",
        "    result = 45/0\n",
        "except:\n",
        "    print(\"Error Happend\")\n",
        "finally:    #finally thakle error hok ba na hok finally te jabe\n",
        "    print(\"Finally always thakbe\")\n",
        "print(\"Done\")\n",
        "\n",
        "\n",
        "try:\n",
        "    result =20//5\n",
        "except:\n",
        "    print(\"error happened\")\n",
        "finally:\n",
        "    print(\"finally here\")"
      ],
      "metadata": {
        "colab": {
          "base_uri": "https://localhost:8080/"
        },
        "id": "kQT2FEA9_w1n",
        "outputId": "f5f82cd7-6194-4064-db02-ee902657ed8f"
      },
      "execution_count": null,
      "outputs": [
        {
          "output_type": "stream",
          "name": "stdout",
          "text": [
            "Error Happend\n",
            "Finally always thakbe\n",
            "Done\n",
            "finally here\n"
          ]
        }
      ]
    },
    {
      "cell_type": "code",
      "source": [
        "#prob 8\n",
        "# File read write in python\n",
        "\n",
        "# .csv (comma separated value)\n",
        "# .txt (text file)\n",
        "#this program work well in pycharm\n",
        "with open('message.txt','w') as file:\n",
        "    file.write('I Love, Python!')\n",
        "\n",
        "with open('message.txt','r') as file:\n",
        "    text = file.read()\n",
        "    print(text)\n",
        "\n",
        "\n",
        "#From Chatgpt\n",
        "# Open a file in write mode\n",
        "file = open(\"example.txt\", \"w\")\n",
        "# Write some text to the file\n",
        "file.write(\"Hello, world!\\n\")\n",
        "file.write(\"This is a simple Python file.\\n\")\n",
        "\n",
        "# Close the file\n",
        "file.close()\n",
        "\n",
        "print(\"File created and written successfully!\")\n",
        "\n",
        "# Open the file in read mode\n",
        "file = open(\"example.txt\", \"r\")\n",
        "\n",
        "# Read and print the contents of the file\n",
        "file_contents = file.read()\n",
        "print(\"Contents of the file:\",file_contents)\n",
        "\n",
        "# Close the file\n",
        "file.close()\n"
      ],
      "metadata": {
        "colab": {
          "base_uri": "https://localhost:8080/"
        },
        "id": "anmjBAf-_1yX",
        "outputId": "c9575608-63d4-4a09-c06a-902585ca2b8b"
      },
      "execution_count": null,
      "outputs": [
        {
          "output_type": "stream",
          "name": "stdout",
          "text": [
            "I Love, Python!\n",
            "File created and written successfully!\n",
            "Contents of the file: Hello, world!\n",
            "This is a simple Python file.\n",
            "\n"
          ]
        }
      ]
    },
    {
      "cell_type": "code",
      "source": [
        "#Prob 9\n",
        "#Lambda function\n",
        "#lambda is a keyword\n",
        "\n",
        "#Rules: Variable = lambda parameter : parameter proccess\n",
        "\n",
        "#Square a number using lambda function(single parameter)\n",
        "square = lambda num: num**2\n",
        "res = square(13)\n",
        "print(\"Square Result is \",res)\n",
        "\n",
        "#double a number using lambda function(single parameter)\n",
        "double = lambda num : num*2\n",
        "res1 = double(44)\n",
        "print(\"Double Result is \",res1)\n",
        "\n",
        "#Multiple parameter\n",
        "add = lambda num1,num2: num1+num2\n",
        "sum = add(11,33)\n",
        "print(\"Sum = \",sum)"
      ],
      "metadata": {
        "colab": {
          "base_uri": "https://localhost:8080/"
        },
        "id": "IcvPwpnIADc3",
        "outputId": "036df332-a4aa-4c98-bef6-67ed0b8c55a6"
      },
      "execution_count": null,
      "outputs": [
        {
          "output_type": "stream",
          "name": "stdout",
          "text": [
            "Square Result is  169\n",
            "Double Result is  88\n",
            "Sum =  44\n"
          ]
        }
      ]
    },
    {
      "cell_type": "code",
      "source": [
        "#Prob 10\n",
        "# Map function\n",
        "\n",
        "#double a list using lambda and Map function\n",
        "num = [1,2,3,4,5,6]\n",
        "double_num = map(lambda x: x*2,num)\n",
        "print(num)\n",
        "print(list(double_num))\n",
        "\n",
        "# Cubic a list using lambda and Map function\n",
        "num1 = [1,2,3,4,5,6]\n",
        "double_num1 = map(lambda x: x**3,num)\n",
        "print(num1)\n",
        "print(list(double_num1))\n",
        "\n",
        "#Filter function using lambda\n",
        "\n",
        "actors = [\n",
        "    {'name':'Sharukh','age':59},\n",
        "    {'name':'Salman','age':57},\n",
        "    {'name':'Kiara advani','age':27},\n",
        "    {'name':'Dipika','age':35}\n",
        "]\n",
        "\n",
        "juniors = filter(lambda x:x['age']<40,actors)\n",
        "print(list(juniors))\n",
        "\n",
        "seniors = filter(lambda x:x['age']>40,actors)\n",
        "print(list(seniors))\n",
        "\n",
        "div_five_age = filter(lambda x:x['age']%5==0,actors)\n",
        "print(list(div_five_age))"
      ],
      "metadata": {
        "colab": {
          "base_uri": "https://localhost:8080/"
        },
        "id": "LaNWMYOvAHr_",
        "outputId": "4065b1ff-c809-49e5-f84e-c16e9e56e9a0"
      },
      "execution_count": null,
      "outputs": [
        {
          "output_type": "stream",
          "name": "stdout",
          "text": [
            "[1, 2, 3, 4, 5, 6]\n",
            "[2, 4, 6, 8, 10, 12]\n",
            "[1, 2, 3, 4, 5, 6]\n",
            "[1, 8, 27, 64, 125, 216]\n",
            "[{'name': 'Kiara advani', 'age': 27}, {'name': 'Dipika', 'age': 35}]\n",
            "[{'name': 'Sharukh', 'age': 59}, {'name': 'Salman', 'age': 57}]\n",
            "[{'name': 'Dipika', 'age': 35}]\n"
          ]
        }
      ]
    }
  ]
}